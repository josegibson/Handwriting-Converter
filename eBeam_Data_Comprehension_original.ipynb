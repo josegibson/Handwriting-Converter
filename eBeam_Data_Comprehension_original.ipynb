{
 "cells": [
  {
   "cell_type": "code",
   "execution_count": 1,
   "metadata": {},
   "outputs": [],
   "source": [
    "import xml.etree.ElementTree as ET\n",
    "import numpy as np\n",
    "import cv2"
   ]
  },
  {
   "cell_type": "code",
   "execution_count": null,
   "metadata": {},
   "outputs": [],
   "source": [
    "# load eBeam XML file\n",
    "tree = ET.parse('original/a01/a01-001/strokesz.xml')\n",
    "root = tree.getroot()"
   ]
  },
  {
   "cell_type": "code",
   "execution_count": null,
   "metadata": {},
   "outputs": [],
   "source": [
    "# get first set of strokes from XML file\n",
    "strokeset = root.find('StrokeSet')\n",
    "min_x, min_y, max_x, max_y = 10000, 10000, 0, 0\n",
    "\n",
    "for stroke in strokeset:\n",
    "    _points = stroke.findall('Point')\n",
    "    _points = np.array([[float(point.get('x')), float(point.get('y'))] for point in _points]) / 10\n",
    "    _points = _points.astype(int)\n",
    "\n",
    "    min_x = min(min_x, np.min(_points[:, 0]))\n",
    "    min_y = min(min_y, np.min(_points[:, 1]))\n",
    "    max_x = max(max_x, np.max(_points[:, 0]))\n",
    "    max_y = max(max_y, np.max(_points[:, 1]))\n",
    "\n"
   ]
  },
  {
   "cell_type": "code",
   "execution_count": null,
   "metadata": {},
   "outputs": [],
   "source": [
    "min_y -= 20\n",
    "min_x -= 20\n",
    "max_y += 20\n",
    "max_x += 20"
   ]
  },
  {
   "cell_type": "code",
   "execution_count": 5,
   "metadata": {},
   "outputs": [],
   "source": [
    "# create an image with white background\n",
    "image = np.ones((max_y - min_y, max_x - min_x), dtype=np.uint8) * 255\n",
    "\n",
    "for i, stroke in enumerate(strokeset):\n",
    "    _points = stroke.findall('Point')\n",
    "\n",
    "    #convert the points to a numpy array\n",
    "    _points = np.array([[float(point.get('x')), float(point.get('y'))] for point in _points]) / 10\n",
    "    _points = _points.astype(int)\n",
    "\n",
    "    #reduce min_x and min_y from each points in points\n",
    "    _points[:, 0] -= min_x\n",
    "    _points[:, 1] -= min_y\n",
    "\n",
    "    # draw strokes on image\n",
    "    cv2.polylines(image, [_points], isClosed=False, color=(0, 0, 0), thickness=2)\n",
    "\n",
    "\n",
    "# display image\n",
    "cv2.imshow('image', image)\n",
    "cv2.waitKey(0)\n",
    "cv2.destroyAllWindows()\n"
   ]
  }
 ],
 "metadata": {
  "kernelspec": {
   "display_name": "base",
   "language": "python",
   "name": "python3"
  },
  "language_info": {
   "codemirror_mode": {
    "name": "ipython",
    "version": 3
   },
   "file_extension": ".py",
   "mimetype": "text/x-python",
   "name": "python",
   "nbconvert_exporter": "python",
   "pygments_lexer": "ipython3",
   "version": "3.9.16"
  },
  "orig_nbformat": 4
 },
 "nbformat": 4,
 "nbformat_minor": 2
}
