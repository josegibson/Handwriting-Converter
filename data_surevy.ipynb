{
 "cells": [
  {
   "cell_type": "code",
   "execution_count": 2,
   "metadata": {},
   "outputs": [
    {
     "name": "stdout",
     "output_type": "stream",
     "text": [
      "10867\n"
     ]
    }
   ],
   "source": [
    "# create a program that access all the .xml files in the 'original' folder and count the total number of lines\n",
    "\n",
    "import xml.etree.ElementTree as ET\n",
    "import os\n",
    "\n",
    "\n",
    "def count_xml_files(path):\n",
    "    count = 0\n",
    "    for root, dirs, files in os.walk(path):\n",
    "        for file in files:\n",
    "            if file.endswith('.xml'):\n",
    "                #count the number of 'TextLine' element in each xml file\n",
    "                tree = ET.parse(os.path.join(root, file))\n",
    "                root = tree.getroot()\n",
    "                for textline in root.iter('TextLine'):\n",
    "                    count += 1\n",
    "                \n",
    "                \n",
    "    return count\n",
    "\n",
    "print(count_xml_files('original'))"
   ]
  }
 ],
 "metadata": {
  "kernelspec": {
   "display_name": "handwriting",
   "language": "python",
   "name": "python3"
  },
  "language_info": {
   "codemirror_mode": {
    "name": "ipython",
    "version": 3
   },
   "file_extension": ".py",
   "mimetype": "text/x-python",
   "name": "python",
   "nbconvert_exporter": "python",
   "pygments_lexer": "ipython3",
   "version": "3.9.16"
  },
  "orig_nbformat": 4
 },
 "nbformat": 4,
 "nbformat_minor": 2
}
