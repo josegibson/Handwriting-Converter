{
 "cells": [
  {
   "cell_type": "code",
   "execution_count": 4,
   "metadata": {},
   "outputs": [
    {
     "name": "stdout",
     "output_type": "stream",
     "text": [
      "10867\n"
     ]
    }
   ],
   "source": [
    "# create a program that access all the .xml files in the 'original' folder and count the total number of lines\n",
    "\n",
    "import xml.etree.ElementTree as ET\n",
    "import os\n",
    "\n",
    "\n",
    "def count_xml_files(path):\n",
    "    count = 0\n",
    "    for root, dirs, files in os.walk(path):\n",
    "        for file in files:\n",
    "            if file.endswith('.xml'):\n",
    "                #count the number of 'TextLine' element in each xml file\n",
    "                tree = ET.parse(os.path.join(root, file))\n",
    "                root = tree.getroot()\n",
    "                for textline in root.iter('TextLine'):\n",
    "                    count += 1\n",
    "                \n",
    "                \n",
    "    return count\n",
    "\n",
    "print(count_xml_files('original'))"
   ]
  },
  {
   "cell_type": "code",
   "execution_count": 1,
   "metadata": {},
   "outputs": [],
   "source": [
    "import cv2\n",
    "from eBeam_dataset_creation import run_over\n",
    "from strokeset_image_class import HandwritingScaler\n",
    "# use the class handwriting_scaler to scale the strokes\n",
    "\n",
    "data = run_over()\n",
    "hs = HandwritingScaler(data)\n"
   ]
  },
  {
   "cell_type": "code",
   "execution_count": 2,
   "metadata": {},
   "outputs": [],
   "source": [
    "for i in range(10):\n",
    "    hs.display(data_point=i)\n",
    "    cv2.destroyAllWindows()"
   ]
  },
  {
   "cell_type": "code",
   "execution_count": 1,
   "metadata": {},
   "outputs": [],
   "source": [
    "from utilities_v2 import DataProcessor\n",
    "import cv2\n",
    "\n",
    "dp = DataProcessor()\n",
    "dp.from_folder('original\\\\a01')\n"
   ]
  },
  {
   "cell_type": "code",
   "execution_count": 2,
   "metadata": {},
   "outputs": [],
   "source": [
    "ss = dp.spread_lines()[0]\n",
    "img=ss.strokeset_to_image()\n",
    "\n",
    "# display img\n",
    "cv2.imshow('image', img)\n",
    "cv2.waitKey(0)\n",
    "cv2.destroyAllWindows()"
   ]
  }
 ],
 "metadata": {
  "kernelspec": {
   "display_name": "handwriting",
   "language": "python",
   "name": "python3"
  },
  "language_info": {
   "codemirror_mode": {
    "name": "ipython",
    "version": 3
   },
   "file_extension": ".py",
   "mimetype": "text/x-python",
   "name": "python",
   "nbconvert_exporter": "python",
   "pygments_lexer": "ipython3",
   "version": "3.9.16"
  },
  "orig_nbformat": 4
 },
 "nbformat": 4,
 "nbformat_minor": 2
}
